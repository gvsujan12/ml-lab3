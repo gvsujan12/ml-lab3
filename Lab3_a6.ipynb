{
 "cells": [
  {
   "cell_type": "code",
   "execution_count": 1,
   "metadata": {},
   "outputs": [
    {
     "name": "stdout",
     "output_type": "stream",
     "text": [
      "[[ 0.01455336 -0.03024836  0.01896371 ...  0.00770176 -0.01886826\n",
      "  -0.02149862]\n",
      " [ 0.00868154 -0.0291283   0.03167596 ...  0.00350518 -0.02659446\n",
      "  -0.02214345]\n",
      " [ 0.00423006 -0.03914441  0.01262215 ...  0.01100539 -0.03064076\n",
      "  -0.04991988]\n",
      " ...\n",
      " [-0.00738536 -0.00760139  0.03075465 ... -0.00213211 -0.00463688\n",
      "   0.00862591]\n",
      " [-0.0055631  -0.01803252  0.03422149 ...  0.013508   -0.02677116\n",
      "  -0.01522977]\n",
      " [-0.00270258 -0.04601922  0.03642074 ... -0.00112297 -0.00728167\n",
      "  -0.03223538]]\n",
      "[[ 0.01992836 -0.02707843  0.05011677 ...  0.02016502 -0.02942493\n",
      "  -0.02660407]\n",
      " [-0.0076225  -0.04528644  0.01804017 ...  0.00732777 -0.00380453\n",
      "  -0.01002676]\n",
      " [-0.00581688 -0.02718047  0.01352636 ...  0.00995673 -0.03247958\n",
      "  -0.0176765 ]\n",
      " ...\n",
      " [ 0.0313691  -0.0269276   0.00970557 ...  0.02704315 -0.03604856\n",
      "  -0.01330187]\n",
      " [ 0.01265087 -0.0127995   0.0085332  ...  0.00894985 -0.02615594\n",
      "  -0.02532265]\n",
      " [-0.0012197  -0.03758726  0.01985561 ...  0.00522516 -0.00629857\n",
      "   0.0046659 ]]\n",
      "687    0\n",
      "705    0\n",
      "296    1\n",
      "172    4\n",
      "863    0\n",
      "      ..\n",
      "106    5\n",
      "270    2\n",
      "860    0\n",
      "435    1\n",
      "102    5\n",
      "Name: Label, Length: 630, dtype: int64\n",
      "70     6\n",
      "827    0\n",
      "231    2\n",
      "588    0\n",
      "39     8\n",
      "      ..\n",
      "506    1\n",
      "653    0\n",
      "638    0\n",
      "752    0\n",
      "281    2\n",
      "Name: Label, Length: 270, dtype: int64\n",
      "Accuracy on the test set: 44.81%\n"
     ]
    }
   ],
   "source": [
    "import pandas as pd\n",
    "from sklearn.model_selection import train_test_split\n",
    "from sklearn.neighbors import KNeighborsClassifier\n",
    "import numpy as np\n",
    "\n",
    "df=pd.read_excel(r'C:\\Users\\gvsuj\\Downloads\\embeddingsdata.xlsx')\n",
    "df1=pd.read_excel(r'C:\\Users\\gvsuj\\Downloads\\Dataset to B.tech.xlsx')\n",
    "\n",
    "\n",
    "X=np.array(df)\n",
    "y=df1['Label']\n",
    "# Split the data into training and testing sets\n",
    "X_train, X_test, y_train, y_test = train_test_split(X, y, test_size=0.3, random_state=42)\n",
    "print(X_train)\n",
    "print(X_test)\n",
    "print(y_train)\n",
    "print(y_test)\n",
    "\n",
    "# Create a kNN classifier with k=3\n",
    "k = 3\n",
    "knn_classifier = KNeighborsClassifier(n_neighbors=k)\n",
    "\n",
    "# Train the classifier on the training data\n",
    "knn_classifier.fit(X_train, y_train)\n",
    "accuracy = knn_classifier.score(X_test, y_test)\n",
    "print(f\"Accuracy on the test set: {accuracy * 100:.2f}%\")\n"
   ]
  }
 ],
 "metadata": {
  "kernelspec": {
   "display_name": "base",
   "language": "python",
   "name": "python3"
  },
  "language_info": {
   "codemirror_mode": {
    "name": "ipython",
    "version": 3
   },
   "file_extension": ".py",
   "mimetype": "text/x-python",
   "name": "python",
   "nbconvert_exporter": "python",
   "pygments_lexer": "ipython3",
   "version": "3.11.4"
  },
  "orig_nbformat": 4
 },
 "nbformat": 4,
 "nbformat_minor": 2
}
