{
 "cells": [
  {
   "cell_type": "code",
   "execution_count": 1,
   "metadata": {},
   "outputs": [
    {
     "name": "stdout",
     "output_type": "stream",
     "text": [
      "The mean of class embed_0 is : 0.008982928828619757\n",
      "The mean of class embed_2 is : 0.02605731548386555\n",
      "The standard deviation of class embed_0 is  0.013072473958361886\n",
      "The standard deviation of class embed_2 is  0.012173293724803462\n",
      "The euclidean distance between two mean vectors is 0.017074386655245792\n"
     ]
    }
   ],
   "source": [
    "import numpy as np\n",
    "import pandas as pd\n",
    "\n",
    "df=pd.read_excel(r\"C:\\Users\\gvsuj\\Downloads\\embeddingsdata.xlsx\")\n",
    "#Mean for two classes\n",
    "class1_mean = np.mean(df['embed_0'], axis=0)\n",
    "class2_mean = np.mean(df['embed_2'], axis=0)\n",
    "print(\"The mean of class embed_0 is :\",class1_mean)\n",
    "print(\"The mean of class embed_2 is :\",class2_mean)\n",
    "class1_std = np.std(df['embed_0'], axis=0)\n",
    "class2_std = np.std(df['embed_2'], axis=0)\n",
    "print(\"The standard deviation of class embed_0 is \",class1_std)\n",
    "print(\"The standard deviation of class embed_2 is \",class2_std)\n",
    "#Calculating Eucliean distance between two mean vectors\n",
    "euclidean_distance = np.linalg.norm(class1_mean - class2_mean)\n",
    "print(\"The euclidean distance between two mean vectors is\",euclidean_distance)\n"
   ]
  }
 ],
 "metadata": {
  "kernelspec": {
   "display_name": "base",
   "language": "python",
   "name": "python3"
  },
  "language_info": {
   "codemirror_mode": {
    "name": "ipython",
    "version": 3
   },
   "file_extension": ".py",
   "mimetype": "text/x-python",
   "name": "python",
   "nbconvert_exporter": "python",
   "pygments_lexer": "ipython3",
   "version": "3.11.4"
  },
  "orig_nbformat": 4
 },
 "nbformat": 4,
 "nbformat_minor": 2
}
